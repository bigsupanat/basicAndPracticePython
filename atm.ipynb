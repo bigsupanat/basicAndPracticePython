{
 "cells": [
  {
   "cell_type": "code",
   "execution_count": 27,
   "metadata": {},
   "outputs": [
    {
     "name": "stdout",
     "output_type": "stream",
     "text": [
      "Your request: 3880 baht\n",
      "you get:\n",
      "1000 baht note = 3\n",
      "500 baht note = 1\n",
      "100 baht note = 3\n",
      "50 baht note = 1\n",
      "20 baht note = 1\n",
      "10 baht note = 1\n"
     ]
    }
   ],
   "source": [
    "money = 3880\n",
    "\n",
    "note_1000 = int(money/1000)\n",
    "change_1000 = money%1000\n",
    "\n",
    "note_500 = int(change_1000/500)\n",
    "change_500 = change_1000%500\n",
    "\n",
    "note_100 = int(change_500/100)\n",
    "change_100 = change_500%100\n",
    "\n",
    "note_50 = int(change_100/50)\n",
    "change_50 = change_100%50\n",
    "\n",
    "note_20 = int(change_50/20)\n",
    "change_20 = change_50%20\n",
    "\n",
    "note_10 = int(change_20/10)\n",
    "change_10 = change_20%10\n",
    "\n",
    "if change_10 != 0:\n",
    "    print(\"invalid input\")\n",
    "else:\n",
    "\n",
    "## output_section\n",
    "\n",
    "    print(\"Your request: \"+str(money) + \" baht\")\n",
    "    print(\"you get:\")\n",
    "    print(\"1000 baht note = \"+str(note_1000))\n",
    "    print(\"500 baht note = \"+str(note_500))\n",
    "    print(\"100 baht note = \"+str(note_100))\n",
    "    print(\"50 baht note = \"+str(note_50))\n",
    "    print(\"20 baht note = \"+str(note_20))\n",
    "    print(\"10 baht note = \"+str(note_10))\n"
   ]
  },
  {
   "cell_type": "code",
   "execution_count": null,
   "metadata": {},
   "outputs": [],
   "source": []
  }
 ],
 "metadata": {
  "kernelspec": {
   "display_name": "Python 3",
   "language": "python",
   "name": "python3"
  },
  "language_info": {
   "codemirror_mode": {
    "name": "ipython",
    "version": 3
   },
   "file_extension": ".py",
   "mimetype": "text/x-python",
   "name": "python",
   "nbconvert_exporter": "python",
   "pygments_lexer": "ipython3",
   "version": "3.7.2"
  }
 },
 "nbformat": 4,
 "nbformat_minor": 2
}
